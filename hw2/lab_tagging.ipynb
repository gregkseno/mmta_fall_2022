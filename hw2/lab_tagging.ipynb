{
 "cells": [
  {
   "cell_type": "markdown",
   "metadata": {
    "collapsed": true,
    "id": "VwEi6g8XHIQ2",
    "pycharm": {
     "name": "#%% md\n"
    }
   },
   "source": [
    "# Практическое задание 2 \n",
    "\n",
    "# Распознавание именованных сущностей из Twitter с помощью LSTM\n",
    "\n",
    "## курс \"Математические методы анализа текстов\"\n",
    "\n",
    "\n",
    "### ФИО: Ксенофонтов Григорий, М05-204"
   ]
  },
  {
   "cell_type": "markdown",
   "metadata": {
    "id": "gYbam1VgHIRC",
    "pycharm": {
     "name": "#%% md\n"
    }
   },
   "source": [
    "## Введение\n",
    "\n",
    "### Постановка задачи\n",
    "\n",
    "В этом задании вы будете использовать рекуррентные нейронные сети для решения проблемы распознавания именованных сущностей (NER). Примерами именованных сущностей являются имена людей, названия организаций, адреса и т.д. В этом задании вы будете работать с данными twitter.\n",
    "\n",
    "Например, вы хотите извлечь имена и названия организаций. Тогда для текста\n",
    "\n",
    "    Yan Goodfellow works for Google Brain\n",
    "\n",
    "модель должна извлечь следующую последовательность:\n",
    "\n",
    "    B-PER I-PER    O     O   B-ORG  I-ORG\n",
    "\n",
    "где префиксы *B-* и *I-* означают начало и конец именованной сущности, *O* означает слово без тега. Такая префиксная система введена, чтобы различать последовательные именованные сущности одного типа.\n",
    "\n",
    "Решение этого задания будет основано на нейронных сетях, а именно на Bi-Directional Long Short-Term Memory Networks (BiLSTMs). В базовой части задания вам также нужно будет улучшить модель при помощи необучаемого пост-процессинга, основанного на алгоритме Витерби и графической модели CRF. В бонусной части вам будет предложено полноценно использовать связку BiLSTM и CRF, обучая обе модели одновременно.\n",
    "\n",
    "### Библиотеки\n",
    "\n",
    "Для этого задания вам понадобятся следующие библиотеки:\n",
    " - [Pytorch](https://pytorch.org/).\n",
    " - [Numpy](http://www.numpy.org).\n",
    " \n",
    "### Данные\n",
    "\n",
    "Все данные содержатся в папке `./data`: `./data/train.txt`, `./data/validation.txt`, `./data/test.txt`.\n",
    "\n",
    "Скачать архив можно здесь: [ссылка на google диск](https://drive.google.com/open?id=1s1rFOFMZTBqtJuQDcIvW-8djA78iUDcx)"
   ]
  },
  {
   "cell_type": "code",
   "execution_count": 1,
   "metadata": {
    "id": "FVq9e0d6HIRE",
    "pycharm": {
     "name": "#%%\n"
    }
   },
   "outputs": [],
   "source": [
    "import numpy as np\n",
    "\n",
    "import torch\n",
    "import torch.nn as nn\n",
    "import torch.optim as optim"
   ]
  },
  {
   "cell_type": "markdown",
   "metadata": {
    "id": "omH2CJFxHIRJ",
    "pycharm": {
     "name": "#%% md\n"
    }
   },
   "source": [
    "## Часть 1. Подготовка данных (2 балла)\n",
    "\n",
    "#### Баллы за эту часть можно получить только при успешном выполнении части 2.\n",
    "\n",
    "### Загрузка данных\n",
    "\n",
    "Мы будем работать с данными, которые содержат твиты с тегами именованных сущностей. Каждая строка файла содержит пару токен (слово или пунктуация) и тег, разделенные пробелом. Различные твиты разделены пустой строкой.\n",
    "\n",
    "Функция *read_data* считывает корпус из *file_path* и возвращает два списка списков: один со списками токенов по твитам и один со списками соответствующих токенам тегов. Также она заменяет все ники (токены, которые начинаются на символ *@*) на токен `<USR>` и url-ы (токены, которые начинаются на *http://* или *https://*) на токен `<URL>`. \n",
    "\n",
    "**<font color='red'>Задание. Реализуйте функцию read_data.</font>**"
   ]
  },
  {
   "cell_type": "code",
   "execution_count": 2,
   "metadata": {
    "id": "_ZjYloEHHIRJ",
    "pycharm": {
     "name": "#%%\n"
    }
   },
   "outputs": [],
   "source": [
    "def read_data(file_path):\n",
    "    tokens = []\n",
    "    tags = []\n",
    "\n",
    "    ######################################\n",
    "    ######### YOUR CODE HERE #############\n",
    "    ######################################\n",
    "    with open(file_path, 'r', encoding=\"utf8\") as file:\n",
    "        sentence = []\n",
    "        tag_sentence = []\n",
    "        for line in file:\n",
    "            if len(line.split()) < 2:\n",
    "                tokens.append(sentence)\n",
    "                tags.append(tag_sentence)\n",
    "                sentence = []\n",
    "                tag_sentence = []\n",
    "                continue\n",
    "            # remove '\\n'\n",
    "            line = line.strip()\n",
    "            token, tag = line.split()\n",
    "            if token.startswith('http://') or token.startswith('https://') or token.startswith('www.'):\n",
    "                token = '<URL>'\n",
    "            if token.startswith('@'):\n",
    "                token = '<USR>'\n",
    "            sentence.append(token)\n",
    "            tag_sentence.append(tag)\n",
    "    return tokens, tags"
   ]
  },
  {
   "cell_type": "markdown",
   "metadata": {
    "id": "Ik23139nHIRK",
    "pycharm": {
     "name": "#%% md\n"
    }
   },
   "source": [
    "Теперь мы можем загрузить 3 части данных:\n",
    " - *train* для тренировки модели;\n",
    " - *validation* для валидации и подбора гиперпараметров;\n",
    " - *test* для финального тестирования."
   ]
  },
  {
   "cell_type": "code",
   "execution_count": 3,
   "metadata": {
    "id": "Sse3n-FuHIRL",
    "pycharm": {
     "name": "#%%\n"
    }
   },
   "outputs": [],
   "source": [
    "train_sentences, train_tags = read_data('data/train.txt')\n",
    "val_sentences, val_tags = read_data('data/validation.txt')\n",
    "test_sentences, test_tags = read_data('data/test.txt')"
   ]
  },
  {
   "cell_type": "markdown",
   "metadata": {
    "id": "EIpLO09CHIRM",
    "pycharm": {
     "name": "#%% md\n"
    }
   },
   "source": [
    "Всегда полезно знать, с какими данными вы работаете. Выведем небольшую часть."
   ]
  },
  {
   "cell_type": "code",
   "execution_count": 4,
   "metadata": {
    "id": "eC0T5UXMHIRN",
    "pycharm": {
     "name": "#%%\n"
    }
   },
   "outputs": [
    {
     "name": "stdout",
     "output_type": "stream",
     "text": [
      "RT\tO\n",
      "<USR>\tO\n",
      ":\tO\n",
      "Online\tO\n",
      "ticket\tO\n",
      "sales\tO\n",
      "for\tO\n",
      "Ghostland\tB-musicartist\n",
      "Observatory\tI-musicartist\n",
      "extended\tO\n",
      "until\tO\n",
      "6\tO\n",
      "PM\tO\n",
      "EST\tO\n",
      "due\tO\n",
      "to\tO\n",
      "high\tO\n",
      "demand\tO\n",
      ".\tO\n",
      "Get\tO\n",
      "them\tO\n",
      "before\tO\n",
      "they\tO\n",
      "sell\tO\n",
      "out\tO\n",
      "...\tO\n",
      "\n",
      "Apple\tB-product\n",
      "MacBook\tI-product\n",
      "Pro\tI-product\n",
      "A1278\tI-product\n",
      "13.3\tI-product\n",
      "\"\tI-product\n",
      "Laptop\tI-product\n",
      "-\tI-product\n",
      "MD101LL/A\tI-product\n",
      "(\tO\n",
      "June\tO\n",
      ",\tO\n",
      "2012\tO\n",
      ")\tO\n",
      "-\tO\n",
      "Full\tO\n",
      "read\tO\n",
      "by\tO\n",
      "eBay\tB-company\n",
      "<URL>\tO\n",
      "<URL>\tO\n",
      "\n",
      "Happy\tO\n",
      "Birthday\tO\n",
      "<USR>\tO\n",
      "!\tO\n",
      "May\tO\n",
      "Allah\tB-person\n",
      "s.w.t\tO\n",
      "bless\tO\n",
      "you\tO\n",
      "with\tO\n",
      "goodness\tO\n",
      "and\tO\n",
      "happiness\tO\n",
      ".\tO\n",
      "\n"
     ]
    }
   ],
   "source": [
    "for i in range(3):\n",
    "    for token, one_tag in zip(train_sentences[i], train_tags[i]):\n",
    "        print('%s\\t%s' % (token, one_tag))\n",
    "    print()"
   ]
  },
  {
   "cell_type": "markdown",
   "metadata": {
    "id": "Kqnv8OZjHIRO",
    "pycharm": {
     "name": "#%% md\n"
    }
   },
   "source": [
    "### Подготовка словарей\n",
    "\n",
    "Чтобы обучать нейронную сеть, мы будем использовать два отображения.\n",
    "\n",
    "- {token}$\\to${token id}: устанавливает соответствие между токеном и строкой в embedding матрице;\n",
    "- {tag}$\\to${tag id}: one hot encoding тегов.\n",
    "\n",
    "\n",
    "Теперь вам необходимо реализовать функцию *build_dict*, которая должна возвращать словарь {token or tag}$\\to${index} и контейнер, задающий обратное отображение.\n",
    "\n",
    "**<font color='red'>Задание. Реализуйте функцию build_dict.</font>**"
   ]
  },
  {
   "cell_type": "code",
   "execution_count": 5,
   "metadata": {
    "id": "MngUpqnqHIRP",
    "pycharm": {
     "name": "#%%\n"
    }
   },
   "outputs": [],
   "source": [
    "def build_dict(entities, special_entities):\n",
    "    \"\"\"\n",
    "    Args:\n",
    "        entities: a list of lists of tokens\n",
    "        special_entities: a list of special tokens\n",
    "        \n",
    "    Returns:\n",
    "        entity_to_idx : mapping to index  \n",
    "        idx_to_entity : mapping from index\n",
    "    \"\"\"\n",
    "    entity_to_idx = dict()\n",
    "    idx_to_entity = []\n",
    "    \n",
    "    # Create mappings from tokens to indices and vice versa\n",
    "    # Add special tokens to dictionaries\n",
    "    # The first special token must have index 0\n",
    "\n",
    "    ######################################\n",
    "    ######### YOUR CODE HERE #############\n",
    "    ######################################\n",
    "    for ent in special_entities:\n",
    "        idx_to_entity.append(ent)\n",
    "        entity_to_idx[ent] = len(idx_to_entity) - 1\n",
    "    for sentence in entities:\n",
    "        for ent in sentence:\n",
    "            if ent not in entity_to_idx.keys():\n",
    "                idx_to_entity.append(ent)\n",
    "                entity_to_idx[ent] = len(idx_to_entity) - 1\n",
    "    # for ent in special_entities:\n",
    "    #     idx_to_entity.append(ent)\n",
    "    #     entity_to_idx[ent] = len(idx_to_entity) - 1\n",
    "    # for ent in entities:\n",
    "    #     if ent not in entity_to_idx.keys():\n",
    "    #         idx_to_entity.append(ent)\n",
    "    #         entity_to_idx[ent] = len(idx_to_entity) - 1\n",
    "\n",
    "\n",
    "    return entity_to_idx, idx_to_entity"
   ]
  },
  {
   "cell_type": "markdown",
   "metadata": {
    "id": "kIwlQTYCHIRP",
    "pycharm": {
     "name": "#%% md\n"
    }
   },
   "source": [
    "После реализации функции *build_dict* вы можете создать словари для токенов и тегов. В нашем случае специальными токенами будут:\n",
    " - `<UNK>` токен для обозначаения слов, которых нет в словаре;\n",
    " - `<PAD>` токен для дополнения предложений одного батча до одинаковой длины."
   ]
  },
  {
   "cell_type": "code",
   "execution_count": 6,
   "metadata": {
    "id": "0M2FVXHmHIRQ",
    "pycharm": {
     "name": "#%%\n"
    }
   },
   "outputs": [],
   "source": [
    "special_tokens = ['<UNK>', '<PAD>']\n",
    "special_tags = []\n",
    "\n",
    "# Create dictionaries \n",
    "token_to_idx, idx_to_token = build_dict(train_sentences + val_sentences, special_tokens)\n",
    "tag_to_idx, idx_to_tag = build_dict(train_tags, special_tags)"
   ]
  },
  {
   "cell_type": "markdown",
   "metadata": {
    "id": "Hy5tg1roHIRR",
    "pycharm": {
     "name": "#%% md\n"
    }
   },
   "source": [
    "### Подготовка датасета и загрузчика\n",
    "\n",
    "Обычно нейронные сети обучаются батчами. Это означает, что каждое обновление весов нейронной сети происходит на основе нескольких последовательностей. Технической деталью является необходимость дополнить все последовательности внутри батча до одной длины. \n",
    "\n",
    "Для начала необходимо реализовать <<датасет>> для хранения ваших данных. Датасет должен наследоваться от стандартного pytorch класса `Dataset` и переопределять методы `__getitem__` и `__len__`. Метод `__getitem__` должен возвращать индексированную последовательность и её теги. Не забудьте про `<UNK>` токен для неизвестных слов!\n",
    "\n",
    "**<font color='red'>Задание. Реализуйте класс TaggingDataset.</font>**"
   ]
  },
  {
   "cell_type": "code",
   "execution_count": 7,
   "metadata": {
    "id": "S42RS_zpHIRS",
    "pycharm": {
     "name": "#%%\n"
    }
   },
   "outputs": [],
   "source": [
    "from torch.utils.data import Dataset, DataLoader\n",
    "\n",
    "\n",
    "class TaggingDataset(Dataset):\n",
    "    \n",
    "    def __init__(self, sentences, tags, token_to_idx, tag_to_idx):\n",
    "        \"\"\"\n",
    "        Args:\n",
    "            sentences: a list of lists of tokens\n",
    "            tags: a list of lists of corresponding tags\n",
    "            token_to_idx: mapping from token to token indexes\n",
    "            tag_to_idx: mapping from tag to tag indexes\n",
    "        \"\"\"\n",
    "        super().__init__()\n",
    "        ######################################\n",
    "        ######### YOUR CODE HERE #############\n",
    "        ######################################\n",
    "        self.sentences = sentences\n",
    "        self.tags = tags\n",
    "        self.token_to_idx = token_to_idx\n",
    "        self.tag_to_idx = tag_to_idx\n",
    "        \n",
    "    def __getitem__(self, idx):\n",
    "        \"\"\"\n",
    "        Args:\n",
    "            idx : int\n",
    "            \n",
    "        Returns:\n",
    "            sentence_idx : torch.tensor of token indexes\n",
    "            tag_idx : torch.tensor of tag indexes\n",
    "        \"\"\"\n",
    "        ######################################\n",
    "        ######### YOUR CODE HERE #############\n",
    "        ######################################\n",
    "        sentence_idx = torch.tensor([self.token_to_idx[token] if token in self.token_to_idx else \\\n",
    "                        self.token_to_idx['<UNK>'] for token in self.sentences[idx]])\n",
    "        tag_idx = torch.tensor([tag_to_idx[tag] for tag in self.tags[idx]])\n",
    "        # sentence_idx = torch.tensor(token_to_idx[self.sentences[idx]])\n",
    "        # tag_idx = torch.tensor(tag_to_idx[self.tags[idx]])\n",
    "        return sentence_idx, tag_idx\n",
    "    \n",
    "    def __len__(self):\n",
    "        ######################################\n",
    "        ######### YOUR CODE HERE #############\n",
    "        ######################################\n",
    "        return len(self.sentences)\n"
   ]
  },
  {
   "cell_type": "markdown",
   "metadata": {
    "id": "zEKzqCxsHIRS",
    "pycharm": {
     "name": "#%% md\n"
    }
   },
   "source": [
    "Для того, чтобы дополнять последовательности паддингом, будем использовать параметр `collate_fn` класса `DataLoader`. Принимая последовательность пар тензоров для предложений и тегов, необходимо дополнить все последовательности до последовательности максимальной длины в батче. Используйте специальные теги `<PAD>` и `O` для дополнения.\n",
    "\n",
    "**<font color='red'>Задание. Реализуйте класс PaddingCollator.</font>**"
   ]
  },
  {
   "cell_type": "code",
   "execution_count": 8,
   "metadata": {
    "id": "DcqVEwmAHIRS",
    "pycharm": {
     "name": "#%%\n"
    }
   },
   "outputs": [],
   "source": [
    "from torch.nn.utils.rnn import pad_sequence\n",
    "\n",
    "\n",
    "class PaddingCollator:\n",
    "    def __init__(self,  pad_token_id, pad_tag_id, batch_first=True):\n",
    "        self.pad_token_idx = pad_token_id\n",
    "        self.pad_tag_id = pad_tag_id\n",
    "        self.batch_first = batch_first\n",
    "        \n",
    "    def __call__(self, batch):\n",
    "        \"\"\"\n",
    "        Args:\n",
    "            batch: list of tuples of torch.tensors\n",
    "        \n",
    "        Returns:\n",
    "            new_sentences: torch.tensor\n",
    "            new_tags: torch.tensor\n",
    "                Both tensors have the same size \n",
    "        \"\"\"\n",
    "        ######################################\n",
    "        ######### YOUR CODE HERE #############\n",
    "        ######################################\n",
    "        new_sentences = []\n",
    "        new_tags = []\n",
    "        max_len = max([item[0].shape[0] for item in batch])\n",
    "        for tokens, tags in batch:\n",
    "            tokens_pad_size = max_len - tokens.shape[0]\n",
    "            tags_pad_size = max_len - tags.shape[0]\n",
    "            new_sentences.append(torch.cat((tokens, torch.tensor([self.pad_token_idx]*tokens_pad_size))).reshape(1, -1))\n",
    "            new_tags.append(torch.cat((tags, torch.tensor([self.pad_tag_id]*tags_pad_size))).reshape(1, -1))\n",
    "        return torch.cat(new_sentences).long(), torch.cat(new_tags).long()\n"
   ]
  },
  {
   "cell_type": "markdown",
   "metadata": {
    "id": "T6u7jyfPHIRT",
    "pycharm": {
     "name": "#%% md\n"
    }
   },
   "source": [
    "Теперь всё готово, чтобы задать DataLoader. Протестируйте на примере ниже, что всё работает правильно."
   ]
  },
  {
   "cell_type": "code",
   "execution_count": 9,
   "metadata": {
    "id": "cKBqrYDMHIRT",
    "pycharm": {
     "name": "#%%\n"
    }
   },
   "outputs": [],
   "source": [
    "small_dataset = TaggingDataset(\n",
    "    sentences=train_sentences[:7],\n",
    "    tags=train_tags[:7],\n",
    "    token_to_idx=token_to_idx,\n",
    "    tag_to_idx=tag_to_idx,\n",
    ")\n",
    "\n",
    "small_loader = DataLoader(\n",
    "    small_dataset,\n",
    "    batch_size=3,\n",
    "    shuffle=False,\n",
    "    drop_last=False,\n",
    "    collate_fn=PaddingCollator(\n",
    "        pad_token_id=token_to_idx['<PAD>'],\n",
    "        pad_tag_id=tag_to_idx['O'],\n",
    "        batch_first=True,\n",
    "    ),\n",
    ")\n",
    "\n",
    "batch_lengths = [3, 3, 1]\n",
    "sequence_lengths = [26, 25, 8]\n",
    "some_pad_tensor = torch.LongTensor([token_to_idx['<PAD>']] * 12)\n",
    "some_outside_tensor = torch.LongTensor([[tag_to_idx['O']] * 12])\n",
    "\n",
    "for i, (tokens_batch, tags_batch) in enumerate(small_loader):\n",
    "    assert tokens_batch.dtype == torch.int64, 'tokens_batch is not LongTensor'\n",
    "    assert tags_batch.dtype == torch.int64, 'tags_batch is not LongTensor'\n",
    "    assert len(tokens_batch) == batch_lengths[i], 'wrong batch length'\n",
    "    \n",
    "    for one_token_sequence in tokens_batch:\n",
    "        assert len(one_token_sequence) == sequence_lengths[i], 'wrong length of sequence in batch'\n",
    "    \n",
    "    if i == 0:\n",
    "        assert torch.all(tokens_batch[2][-12:] == some_pad_tensor), \"wrong padding\"       \n",
    "        assert torch.all(tags_batch[2][-12:] == some_outside_tensor), \"wrong O tag\""
   ]
  },
  {
   "cell_type": "markdown",
   "metadata": {
    "id": "qwvqq2vLHIRT",
    "pycharm": {
     "name": "#%% md\n"
    }
   },
   "source": [
    "**<font color='red'>Задание. В ячейке ниже задайте датасеты и загрузчики для обучающих, валидационных и тестовых данных.</font>**"
   ]
  },
  {
   "cell_type": "code",
   "execution_count": 10,
   "metadata": {
    "id": "qMeGUh2IHIRT",
    "pycharm": {
     "name": "#%%\n"
    }
   },
   "outputs": [],
   "source": [
    "######################################\n",
    "######### YOUR CODE HERE #############\n",
    "######################################\n",
    "collator = PaddingCollator(\n",
    "        pad_token_id=token_to_idx['<PAD>'],\n",
    "        pad_tag_id=tag_to_idx['O'],\n",
    "        batch_first=True,\n",
    "    )\n",
    "############# TRAIN ##################\n",
    "train_dataset = TaggingDataset(\n",
    "    sentences=train_sentences,\n",
    "    tags=train_tags,\n",
    "    token_to_idx=token_to_idx,\n",
    "    tag_to_idx=tag_to_idx,\n",
    ")\n",
    "\n",
    "train_loader = DataLoader(\n",
    "    train_dataset,\n",
    "    batch_size=32,\n",
    "    shuffle=True,\n",
    "    drop_last=False,\n",
    "    collate_fn=collator\n",
    ")\n",
    "########### VALIDATION ##############\n",
    "val_dataset = TaggingDataset(\n",
    "    sentences=val_sentences,\n",
    "    tags=val_tags,\n",
    "    token_to_idx=token_to_idx,\n",
    "    tag_to_idx=tag_to_idx,\n",
    ")\n",
    "\n",
    "val_loader = DataLoader(\n",
    "    val_dataset,\n",
    "    batch_size=32,\n",
    "    shuffle=False,\n",
    "    drop_last=False,\n",
    "    collate_fn=collator\n",
    ")\n",
    "############## TEST #################\n",
    "test_dataset = TaggingDataset(\n",
    "    sentences=test_sentences,\n",
    "    tags=test_tags,\n",
    "    token_to_idx=token_to_idx,\n",
    "    tag_to_idx=tag_to_idx,\n",
    ")\n",
    "\n",
    "test_loader = DataLoader(\n",
    "    test_dataset,\n",
    "    batch_size=32,\n",
    "    shuffle=False,\n",
    "    drop_last=False,\n",
    "    collate_fn=collator\n",
    ")"
   ]
  },
  {
   "cell_type": "markdown",
   "metadata": {
    "id": "OZHPwPHtHIRU",
    "pycharm": {
     "name": "#%% md\n"
    }
   },
   "source": [
    "## Часть 2. BiLSTM-теггер (4 балла)\n",
    "\n",
    "Определите архитектуру сети, используя библиотеку pytorch. \n",
    "\n",
    "Ваша архитектура в этом пункте должна соответствовать стандартному теггеру (см. лекцию):\n",
    "* Embedding слой на входе\n",
    "* Двунаправленный LSTM слой для обработки последовательности\n",
    "* Используйте dropout (заданный отдельно или встроенный в LSTM) для уменьшения переобучения\n",
    "* Linear слой на выходе\n",
    "\n",
    "Для обучения сети используйте поэлементную кросс-энтропийную функцию потерь.\n",
    "**Обратите внимание**, что `<PAD>` токены не должны участвовать в подсчёте функции потерь. В качестве оптимизатора рекомендуется использовать Adam. Для получения значений предсказаний по выходам модели используйте функцию $\\arg\\max$. \n",
    "\n",
    "**<font color='red'>Задание. Задайте архитектуру сети и требуемые методы.</font>**"
   ]
  },
  {
   "cell_type": "code",
   "execution_count": 11,
   "metadata": {
    "id": "hKLKYQECHIRU",
    "pycharm": {
     "name": "#%%\n"
    }
   },
   "outputs": [],
   "source": [
    "class BiLSTMModel(torch.nn.Module):\n",
    "    def __init__(\n",
    "        self,\n",
    "        vocabulary_size,\n",
    "        tag_space_size,\n",
    "        pad_token_idx,\n",
    "        embedding_dim,\n",
    "        lstm_hidden_size,\n",
    "        dropout_zeroed_probability,\n",
    "        device='cpu'\n",
    "    ):\n",
    "        '''\n",
    "        Defines neural network structure.\n",
    "        \n",
    "        architecture: input -> Embedding -> BiLSTM with Dropout -> Linear\n",
    "        \n",
    "        ----------\n",
    "        Parameters\n",
    "        \n",
    "        vocabulary_size: int, number of words in vocabulary.\n",
    "        tag_space_size: int, number of tags.\n",
    "        pad_token_idx: int, index of padding character. Used for loss masking.\n",
    "        embedding_dim: int, dimension of words' embeddings.\n",
    "        lstm_hidden_size: int, number of hidden units in each LSTM cell\n",
    "        dropout_zeroed_probability: float, dropout zeroed probability for Dropout layer.\n",
    "        device: str, cpu or cuda:x\n",
    "        '''\n",
    "        ######################################\n",
    "        ######### YOUR CODE HERE #############\n",
    "        ######################################\n",
    "        super(BiLSTMModel, self).__init__()\n",
    "        self.device = device\n",
    "\n",
    "        self.embeddings = nn.Embedding(vocabulary_size, embedding_dim, pad_token_idx)\n",
    "        self.lstm = nn.LSTM(embedding_dim, lstm_hidden_size, batch_first=True, bidirectional=True,\n",
    "                       dropout=dropout_zeroed_probability, num_layers=2)\n",
    "        #When bidirectional=True, output will contain a concatenation of the forward and reverse hidden states at each time step in the sequence.\n",
    "        self.linear = nn.Linear(2 * lstm_hidden_size, tag_space_size)\n",
    "\n",
    "\n",
    "        \n",
    "    def forward(self, x_batch):\n",
    "        '''\n",
    "        Makes forward pass.\n",
    "        \n",
    "        ----------\n",
    "        Parameters\n",
    "        x_batch: torch.LongTensor with shape (number of samples in batch, number words in sentence).\n",
    "        '''\n",
    "        ######################################\n",
    "        ######### YOUR CODE HERE #############\n",
    "        ######################################\n",
    "        x = self.embeddings(x_batch)\n",
    "        x, _ = self.lstm(x)\n",
    "        return self.linear(x)\n",
    "    \n",
    "    def predict_for_batch(self, x_batch):\n",
    "        '''\n",
    "        Returns predictions for x_batch. Use argmax function.\n",
    "        \n",
    "        return type: torch.LongTensor\n",
    "        return shape: (number of samples in batch, number words in sentence.\n",
    "        \n",
    "        ----------\n",
    "        Parameters\n",
    "        x_batch: torch.LongTensor with shape (number of samples in batch, number words in sentence).\n",
    "        '''\n",
    "        ######################################\n",
    "        ######### YOUR CODE HERE #############\n",
    "        ######################################\n",
    "        return torch.argmax(self.forward(x_batch), dim=-1)"
   ]
  },
  {
   "cell_type": "markdown",
   "metadata": {
    "id": "Zr6yGSY2HIRV",
    "pycharm": {
     "name": "#%% md\n"
    }
   },
   "source": [
    "Для тестирования сети мы подготовили для вас класс ScoreEvaluator с двумя полезными методами:\n",
    " - *predict_tags*: получает батч данных и трансформирует его в список из токенов и предсказанных тегов;\n",
    " - *eval_conll*: вычисляет метрики precision, recall и F1"
   ]
  },
  {
   "cell_type": "code",
   "execution_count": 12,
   "metadata": {
    "id": "AblXVfBhHIRV",
    "pycharm": {
     "name": "#%%\n"
    }
   },
   "outputs": [],
   "source": [
    "from evaluation_ner import ScoreEvaluator\n",
    "\n",
    "evaluator = ScoreEvaluator(\n",
    "    token_to_idx=token_to_idx,\n",
    "    idx_to_tag=idx_to_tag,\n",
    "    idx_to_token=idx_to_token,\n",
    ")"
   ]
  },
  {
   "cell_type": "markdown",
   "metadata": {
    "id": "3CTSCH53HIRV",
    "pycharm": {
     "name": "#%% md\n"
    }
   },
   "source": [
    "### Эксперименты\n",
    "\n",
    "Задайте BiLSTMModel. Рекомендуем начать с параметров:\n",
    "- *batch_size*: 32;\n",
    "- начальное значение *learning_rate*: 0.01-0.001\n",
    "- *dropout_zeroed_probability*: 0.5-0.7\n",
    "- *embedding_dim*: 100-200\n",
    "- *rnn_hidden_size*: 150-200"
   ]
  },
  {
   "cell_type": "markdown",
   "metadata": {
    "id": "JhSbzLivHIRW",
    "pycharm": {
     "name": "#%% md\n"
    }
   },
   "source": [
    "Проведите эксперименты на данных. Настраивайте параметры по валидационной выборке, не используя тестовую. Ваше цель — настроить сеть так, чтобы качество модели по F1 мере на валидационной и тестовой выборках было не меньше 0.35. При некотором усердии, можно достичь результата 0.45 по F1 на обоих датасетах.\n",
    "\n",
    "Если сеть плохо обучается, попробуйте использовать следующие модификации:\n",
    "\n",
    "    * используйте gradient clipping \n",
    "    * ограничивайте норму эмбеддингов через параметр max_norm (сопоставляйте с значениями в клиппинге)\n",
    "    * на каждой итерации уменьшайте learning rate (например, в 1.1 раз)\n",
    "    * попробуйте вместо Adam другие оптимизаторы\n",
    "    * используйте l2 регуляризацию\n",
    "    * экспериментируйте с значением dropout\n",
    "\n",
    "Сделайте выводы о качестве модели, переобучении, чувствительности архитектуры к выбору гиперпараметров. Оформите результаты экспериментов в виде мини-отчета (в этом же ipython notebook).\n",
    "\n",
    "**<font color='red'>Задание. Проведите требуемые эксперименты.</font>**"
   ]
  },
  {
   "cell_type": "markdown",
   "source": [
    "Переобучение наступает после 3 эпохи\n",
    "Dropout при уменьшении от 0.7 до 0.2 дает ощутимое возрастание f1-score\n",
    "Scheduler позволил найти решение с f1 мерой равной 0.35 и 0.38\n",
    "При клиппинге график функции потерь на тренировочных данных колеблется слабее"
   ],
   "metadata": {
    "collapsed": false,
    "pycharm": {
     "name": "#%% md\n"
    }
   }
  },
  {
   "cell_type": "code",
   "execution_count": 13,
   "metadata": {
    "id": "wcFB2gWXHIRW",
    "pycharm": {
     "name": "#%%\n"
    }
   },
   "outputs": [],
   "source": [
    "######################################\n",
    "######### YOUR CODE HERE #############\n",
    "######################################\n",
    "import tqdm\n",
    "\n",
    "class Trainer():\n",
    "    def __init__(self,\n",
    "                model,\n",
    "                optimizer,\n",
    "                criterion,\n",
    "                pad_token_idx,\n",
    "                device=torch.device('cpu')):\n",
    "        self.device = device\n",
    "        self.model = model.to(device)\n",
    "        self.optimizer = optimizer\n",
    "        self.criterion = criterion\n",
    "        self.pad_token_idx = pad_token_idx\n",
    "\n",
    "        self.scheduler = optim.lr_scheduler.ExponentialLR(self.optimizer, gamma=0.6)\n",
    "\n",
    "    def _calculate_loss(self, batch):\n",
    "        sentences, tags = batch\n",
    "        sentences = sentences.to(self.device)\n",
    "        tags = tags.to(self.device)\n",
    "\n",
    "        mask = sentences != self.pad_token_idx\n",
    "        out = self.model(sentences)\n",
    "        tags_dim = out.shape[-1]\n",
    "        model_output = out.reshape(-1, tags_dim)\n",
    "        mask = mask.reshape(-1)\n",
    "        not_pad_words = model_output[mask]\n",
    "        not_pad_tokens = tags.reshape(-1)[mask]\n",
    "        return self.criterion(not_pad_words, not_pad_tokens)\n",
    "\n",
    "    def _train_step(self, dataloader):\n",
    "        losses = []\n",
    "        self.model.train()\n",
    "        for batch in tqdm.tqdm(dataloader):\n",
    "            self.optimizer.zero_grad()\n",
    "            loss = self._calculate_loss(batch)\n",
    "            loss.backward()\n",
    "            losses.append(loss.item())\n",
    "            torch.nn.utils.clip_grad_norm_(self.model.parameters(), 1)\n",
    "            self.optimizer.step()\n",
    "        self.scheduler.step()\n",
    "        return losses\n",
    "\n",
    "    def _eval_step(self, dataloader):\n",
    "        self.model.eval()\n",
    "        avg_loss = .0\n",
    "        for i, batch in tqdm.tqdm(enumerate(dataloader)):\n",
    "            avg_loss += self._calculate_loss(batch)\n",
    "        return avg_loss.item() / (i + 1)\n",
    "\n",
    "    def train(self, train_loader, val_loader, epochs, verbose=True):\n",
    "        train_losses = []\n",
    "        val_losses = []\n",
    "        for i in tqdm.tqdm(range(epochs)):\n",
    "            train_loss = self._train_step(train_loader)\n",
    "            val_loss = self._eval_step(val_loader)\n",
    "            if verbose:\n",
    "                print(f'epoch: {i + 1}, train loss: {np.mean(train_loss)}, validation loss: {val_loss}')\n",
    "            train_losses.extend(train_loss)\n",
    "            val_losses.append(val_loss)\n",
    "        return train_losses, val_losses"
   ]
  },
  {
   "cell_type": "code",
   "execution_count": 15,
   "outputs": [
    {
     "name": "stderr",
     "output_type": "stream",
     "text": [
      "  0%|          | 0/3 [00:00<?, ?it/s]\n",
      "  0%|          | 0/182 [00:00<?, ?it/s]\u001B[A\n",
      "  1%|          | 1/182 [00:00<01:21,  2.23it/s]\u001B[A\n",
      "  3%|▎         | 5/182 [00:00<00:16, 10.91it/s]\u001B[A\n",
      "  5%|▌         | 10/182 [00:00<00:08, 20.40it/s]\u001B[A\n",
      "  9%|▉         | 16/182 [00:00<00:05, 29.16it/s]\u001B[A\n",
      " 12%|█▏        | 22/182 [00:00<00:04, 35.74it/s]\u001B[A\n",
      " 15%|█▍        | 27/182 [00:01<00:03, 39.32it/s]\u001B[A\n",
      " 18%|█▊        | 32/182 [00:01<00:03, 41.59it/s]\u001B[A\n",
      " 21%|██        | 38/182 [00:01<00:03, 44.39it/s]\u001B[A\n",
      " 24%|██▍       | 44/182 [00:01<00:02, 46.83it/s]\u001B[A\n",
      " 27%|██▋       | 49/182 [00:01<00:02, 47.60it/s]\u001B[A\n",
      " 30%|███       | 55/182 [00:01<00:02, 49.02it/s]\u001B[A\n",
      " 34%|███▎      | 61/182 [00:01<00:02, 49.50it/s]\u001B[A\n",
      " 37%|███▋      | 67/182 [00:01<00:02, 50.61it/s]\u001B[A\n",
      " 40%|████      | 73/182 [00:01<00:02, 50.47it/s]\u001B[A\n",
      " 43%|████▎     | 79/182 [00:02<00:02, 51.02it/s]\u001B[A\n",
      " 47%|████▋     | 85/182 [00:02<00:01, 51.45it/s]\u001B[A\n",
      " 50%|█████     | 91/182 [00:02<00:01, 50.91it/s]\u001B[A\n",
      " 53%|█████▎    | 97/182 [00:02<00:01, 51.20it/s]\u001B[A\n",
      " 57%|█████▋    | 103/182 [00:02<00:01, 51.40it/s]\u001B[A\n",
      " 60%|█████▉    | 109/182 [00:02<00:01, 52.07it/s]\u001B[A\n",
      " 63%|██████▎   | 115/182 [00:02<00:01, 52.83it/s]\u001B[A\n",
      " 66%|██████▋   | 121/182 [00:02<00:01, 52.75it/s]\u001B[A\n",
      " 70%|██████▉   | 127/182 [00:02<00:01, 53.56it/s]\u001B[A\n",
      " 73%|███████▎  | 133/182 [00:03<00:00, 53.04it/s]\u001B[A\n",
      " 76%|███████▋  | 139/182 [00:03<00:00, 53.38it/s]\u001B[A\n",
      " 80%|███████▉  | 145/182 [00:03<00:00, 53.47it/s]\u001B[A\n",
      " 83%|████████▎ | 151/182 [00:03<00:00, 53.35it/s]\u001B[A\n",
      " 86%|████████▋ | 157/182 [00:03<00:00, 53.30it/s]\u001B[A\n",
      " 90%|████████▉ | 163/182 [00:03<00:00, 53.64it/s]\u001B[A\n",
      " 93%|█████████▎| 169/182 [00:03<00:00, 53.38it/s]\u001B[A\n",
      " 96%|█████████▌| 175/182 [00:03<00:00, 53.34it/s]\u001B[A\n",
      "100%|██████████| 182/182 [00:03<00:00, 45.95it/s]\u001B[A\n",
      "\n",
      "0it [00:00, ?it/s]\u001B[A\n",
      "9it [00:00, 84.34it/s]\u001B[A\n",
      "23it [00:00, 83.25it/s]\u001B[A\n",
      " 33%|███▎      | 1/3 [00:04<00:08,  4.25s/it]"
     ]
    },
    {
     "name": "stdout",
     "output_type": "stream",
     "text": [
      "epoch: 1, train loss: 0.41105759471327397, validation loss: 0.29717862087747327\n"
     ]
    },
    {
     "name": "stderr",
     "output_type": "stream",
     "text": [
      "\n",
      "  0%|          | 0/182 [00:00<?, ?it/s]\u001B[A\n",
      "  3%|▎         | 5/182 [00:00<00:04, 43.22it/s]\u001B[A\n",
      "  6%|▌         | 11/182 [00:00<00:03, 48.80it/s]\u001B[A\n",
      "  9%|▉         | 17/182 [00:00<00:03, 51.53it/s]\u001B[A\n",
      " 13%|█▎        | 23/182 [00:00<00:03, 49.77it/s]\u001B[A\n",
      " 15%|█▌        | 28/182 [00:00<00:03, 49.73it/s]\u001B[A\n",
      " 19%|█▊        | 34/182 [00:00<00:02, 50.17it/s]\u001B[A\n",
      " 22%|██▏       | 40/182 [00:00<00:02, 50.88it/s]\u001B[A\n",
      " 25%|██▌       | 46/182 [00:00<00:02, 51.05it/s]\u001B[A\n",
      " 29%|██▊       | 52/182 [00:01<00:02, 51.59it/s]\u001B[A\n",
      " 32%|███▏      | 58/182 [00:01<00:02, 52.27it/s]\u001B[A\n",
      " 35%|███▌      | 64/182 [00:01<00:02, 52.71it/s]\u001B[A\n",
      " 38%|███▊      | 70/182 [00:01<00:02, 52.45it/s]\u001B[A\n",
      " 42%|████▏     | 76/182 [00:01<00:02, 52.55it/s]\u001B[A\n",
      " 45%|████▌     | 82/182 [00:01<00:01, 52.48it/s]\u001B[A\n",
      " 48%|████▊     | 88/182 [00:01<00:01, 52.85it/s]\u001B[A\n",
      " 52%|█████▏    | 94/182 [00:01<00:01, 52.41it/s]\u001B[A\n",
      " 55%|█████▍    | 100/182 [00:01<00:01, 51.84it/s]\u001B[A\n",
      " 58%|█████▊    | 106/182 [00:02<00:01, 51.58it/s]\u001B[A\n",
      " 62%|██████▏   | 112/182 [00:02<00:01, 51.66it/s]\u001B[A\n",
      " 65%|██████▍   | 118/182 [00:02<00:01, 51.99it/s]\u001B[A\n",
      " 68%|██████▊   | 124/182 [00:02<00:01, 52.36it/s]\u001B[A\n",
      " 71%|███████▏  | 130/182 [00:02<00:00, 52.82it/s]\u001B[A\n",
      " 75%|███████▍  | 136/182 [00:02<00:00, 52.50it/s]\u001B[A\n",
      " 78%|███████▊  | 142/182 [00:02<00:00, 51.75it/s]\u001B[A\n",
      " 81%|████████▏ | 148/182 [00:02<00:00, 51.92it/s]\u001B[A\n",
      " 85%|████████▍ | 154/182 [00:02<00:00, 52.35it/s]\u001B[A\n",
      " 88%|████████▊ | 160/182 [00:03<00:00, 52.51it/s]\u001B[A\n",
      " 91%|█████████ | 166/182 [00:03<00:00, 52.86it/s]\u001B[A\n",
      " 95%|█████████▍| 172/182 [00:03<00:00, 52.70it/s]\u001B[A\n",
      "100%|██████████| 182/182 [00:03<00:00, 52.14it/s]\u001B[A\n",
      "\n",
      "0it [00:00, ?it/s]\u001B[A\n",
      "9it [00:00, 83.56it/s]\u001B[A\n",
      "23it [00:00, 83.86it/s]\u001B[A\n",
      " 67%|██████▋   | 2/3 [00:08<00:03,  3.97s/it]"
     ]
    },
    {
     "name": "stdout",
     "output_type": "stream",
     "text": [
      "epoch: 2, train loss: 0.21991247012392506, validation loss: 0.27820848382037616\n"
     ]
    },
    {
     "name": "stderr",
     "output_type": "stream",
     "text": [
      "\n",
      "  0%|          | 0/182 [00:00<?, ?it/s]\u001B[A\n",
      "  3%|▎         | 6/182 [00:00<00:03, 53.24it/s]\u001B[A\n",
      "  7%|▋         | 12/182 [00:00<00:03, 51.35it/s]\u001B[A\n",
      " 10%|▉         | 18/182 [00:00<00:03, 50.75it/s]\u001B[A\n",
      " 13%|█▎        | 24/182 [00:00<00:03, 49.85it/s]\u001B[A\n",
      " 16%|█▌        | 29/182 [00:00<00:03, 47.85it/s]\u001B[A\n",
      " 19%|█▊        | 34/182 [00:00<00:03, 45.38it/s]\u001B[A\n",
      " 22%|██▏       | 40/182 [00:00<00:03, 47.19it/s]\u001B[A\n",
      " 25%|██▌       | 46/182 [00:00<00:02, 49.18it/s]\u001B[A\n",
      " 29%|██▊       | 52/182 [00:01<00:02, 50.97it/s]\u001B[A\n",
      " 32%|███▏      | 58/182 [00:01<00:02, 50.84it/s]\u001B[A\n",
      " 35%|███▌      | 64/182 [00:01<00:02, 50.62it/s]\u001B[A\n",
      " 38%|███▊      | 70/182 [00:01<00:02, 51.26it/s]\u001B[A\n",
      " 42%|████▏     | 76/182 [00:01<00:02, 51.72it/s]\u001B[A\n",
      " 45%|████▌     | 82/182 [00:01<00:01, 52.58it/s]\u001B[A\n",
      " 48%|████▊     | 88/182 [00:01<00:01, 52.47it/s]\u001B[A\n",
      " 52%|█████▏    | 94/182 [00:01<00:01, 52.70it/s]\u001B[A\n",
      " 55%|█████▍    | 100/182 [00:01<00:01, 52.44it/s]\u001B[A\n",
      " 58%|█████▊    | 106/182 [00:02<00:01, 53.10it/s]\u001B[A\n",
      " 62%|██████▏   | 112/182 [00:02<00:01, 53.14it/s]\u001B[A\n",
      " 65%|██████▍   | 118/182 [00:02<00:01, 53.76it/s]\u001B[A\n",
      " 68%|██████▊   | 124/182 [00:02<00:01, 53.44it/s]\u001B[A\n",
      " 71%|███████▏  | 130/182 [00:02<00:00, 53.38it/s]\u001B[A\n",
      " 75%|███████▍  | 136/182 [00:02<00:00, 52.92it/s]\u001B[A\n",
      " 78%|███████▊  | 142/182 [00:02<00:00, 53.15it/s]\u001B[A\n",
      " 81%|████████▏ | 148/182 [00:02<00:00, 53.04it/s]\u001B[A\n",
      " 85%|████████▍ | 154/182 [00:02<00:00, 53.52it/s]\u001B[A\n",
      " 88%|████████▊ | 160/182 [00:03<00:00, 53.44it/s]\u001B[A\n",
      " 91%|█████████ | 166/182 [00:03<00:00, 53.06it/s]\u001B[A\n",
      " 95%|█████████▍| 172/182 [00:03<00:00, 53.27it/s]\u001B[A\n",
      "100%|██████████| 182/182 [00:03<00:00, 51.82it/s]\u001B[A\n",
      "\n",
      "0it [00:00, ?it/s]\u001B[A\n",
      "9it [00:00, 84.32it/s]\u001B[A\n",
      "23it [00:00, 84.48it/s]\u001B[A\n",
      "100%|██████████| 3/3 [00:11<00:00,  3.94s/it]"
     ]
    },
    {
     "name": "stdout",
     "output_type": "stream",
     "text": [
      "epoch: 3, train loss: 0.11189938284415793, validation loss: 0.3030044306879458\n"
     ]
    },
    {
     "name": "stderr",
     "output_type": "stream",
     "text": [
      "\n"
     ]
    }
   ],
   "source": [
    "# batch_size: 32;\n",
    "# начальное значение learning_rate: 0.01-0.001\n",
    "# dropout_zeroed_probability: 0.5-0.7\n",
    "# embedding_dim: 100-200\n",
    "# rnn_hidden_size: 150-200\n",
    "\n",
    "biLSTM = BiLSTMModel(len(token_to_idx), len(tag_to_idx), token_to_idx['<PAD>'], 100, 150, 0.2)\n",
    "optimizer = optim.Adam(biLSTM.parameters(), lr=0.01)\n",
    "criterion = nn.CrossEntropyLoss()\n",
    "\n",
    "trainer = Trainer(biLSTM, optimizer, criterion, token_to_idx['<PAD>'], 'cuda')\n",
    "\n",
    "train_losses, val_losses = trainer.train(train_loader, val_loader, 3)"
   ],
   "metadata": {
    "collapsed": false,
    "pycharm": {
     "name": "#%%\n"
    }
   }
  },
  {
   "cell_type": "code",
   "execution_count": 16,
   "outputs": [
    {
     "name": "stdout",
     "output_type": "stream",
     "text": [
      "{'precision': 48.275862068965516, 'recall': 30.132450331125828, 'f1': 37.10499490316003, 'n_predicted_entities': 377, 'n_true_entities': 604}\n",
      "{'precision': 41.44578313253012, 'recall': 32.02979515828678, 'f1': 36.134453781512605, 'n_predicted_entities': 415, 'n_true_entities': 537}\n"
     ]
    }
   ],
   "source": [
    "biLSTM.cpu().eval()\n",
    "print(evaluator.eval_conll(biLSTM, test_loader))\n",
    "print(evaluator.eval_conll(biLSTM, val_loader))"
   ],
   "metadata": {
    "collapsed": false,
    "pycharm": {
     "name": "#%%\n"
    }
   }
  },
  {
   "cell_type": "code",
   "execution_count": 17,
   "outputs": [
    {
     "data": {
      "text/plain": "<Figure size 640x480 with 1 Axes>",
      "image/png": "[encoded data removed]"
     },
     "metadata": {},
     "output_type": "display_data"
    }
   ],
   "source": [
    "import matplotlib.pyplot as plt\n",
    "\n",
    "\n",
    "n_train = len(train_losses)\n",
    "x_train = np.linspace(0, len(val_losses) - 1, n_train)\n",
    "\n",
    "plt.plot(x_train, train_losses)\n",
    "plt.plot(val_losses)\n",
    "\n",
    "plt.xlabel('Epoch')\n",
    "plt.ylabel('Loss')\n",
    "plt.grid()\n",
    "plt.show()"
   ],
   "metadata": {
    "collapsed": false,
    "pycharm": {
     "name": "#%%\n"
    }
   }
  },
  {
   "cell_type": "markdown",
   "metadata": {
    "id": "0lUQtqrOHIRX",
    "pycharm": {
     "name": "#%% md\n"
    }
   },
   "source": [
    "## Необучаемый пост-процессинг результата (4 балла).\n",
    "\n",
    "Для обучения нейросетевой модели разметки используется поэлементная кросс-энтропия. При использовании на этапе инференса функции $\\arg \\max$ для получения выходной последовательности, мы не можем гарантировать согласованность предсказаний. Для согласованности необходимо вместо $\\arg \\max$ использовать другие функции получения предсказаний.\n",
    "\n",
    "В модели CRF для получения предсказаний используется алгоритм Витерби. Напомним, что модель CRF моделирует вероятность последовательности $y$ при условии $x$ линейной моделью с вектором весов $w \\in \\mathbb{R}^d$, которая после некоторых преобразований записывается следующим образом:\n",
    "$$\n",
    "p(y|x, w) = \\frac{1}{Z(x, w)} \\exp\\left( \\sum_{i=1}^n \\sum_{j = 1}^d w_j f_j(y_{i-1}, y_i, x_i, i) \\right) =  \\frac{1}{Z(x, w)} \\exp\\left( \\sum_{i=1}^n G_{x, i}[y_{i-1}, y_i] \\right)\n",
    "$$\n",
    "\n",
    "Модель необучаемого пост-процессинга **подробно описана** в приложении к заданию. Она сводится к следующим шагам.\n",
    "\n",
    "1. Реализовать модель CRF с двумя признаками:\n",
    "    \n",
    "    * Лог-софтмакс выходов модели (выход, соответствующий $y_i$ тэгу для i-го токена будем обозначать $S_{i,y_i}$)    \n",
    "    \n",
    "    $$\n",
    "    f_1(y_{i-1}, y_i, x_i, i) = S_{i,y_i}\n",
    "    $$\n",
    "    \n",
    "    * Логарифмы вероятностей переходов\n",
    "\n",
    "    $$\n",
    "    f_2(y_{i-1}, y_i, x_i, i) = \\log A[v=y_{i}, u=y_{i-1}] \\mathbb{I}[i > 1] + \\log C[v = y_i] \\mathbb{I}[i = 1], \\quad \\text{где:}\n",
    "    $$\n",
    "\n",
    "    $$A_{vu} = \\frac{\\sum_{y}\\sum_{i=2}^{|y|} \\mathbb{I}[y_{i} = v, y_{i - 1} = u]}{\\sum_{y}\\sum_{i=2}^{|y|} \\mathbb{I}[y_{i-1} = u]}\n",
    "    $$\n",
    "    $$\n",
    "    C_v = \\frac{\\sum_{y}\\mathbb{I}[y_{1} = v]}{\\sum_{y}1}\n",
    "    $$\n",
    "    \n",
    "2. Реализовать процедуру получения оптимальной выходной последовательности, используя алгоритм Витерби\n",
    "\n",
    "3. Подобрать на валидационной выборке веса модели $w_1$ и $w_2$\n",
    "\n",
    "Для исходной модели, дающей на валидационной и тестовой выборке F1 меру 0.408 и 0.46 соответственно, качество после такого пост-процессинга выросло до 0.461 и 0.493. Заметим, что для тестирования модели не нужно переобучать исходную модель. Для более устойчивого поведения модели, используйте сглаживание матрицы $A$ (добавьте перед нормировкой ко всем значениям одинаковое небольшое число).\n",
    "\n",
    "**<font color='red'>Задание. Реализуйте требуемую модель, добейтесь улучшения качества на валидации и тесте, сделайте выводы.</font>**"
   ]
  },
  {
   "cell_type": "markdown",
   "source": [
    "Для исходной модели, дающей на валидационной и тестовой выборке F1 меру 36.1 и 37.1 соответственно, качество после такого пост-процессинга выросло до 37.2 и 38.3."
   ],
   "metadata": {
    "collapsed": false,
    "pycharm": {
     "name": "#%% md\n"
    }
   }
  },
  {
   "cell_type": "code",
   "execution_count": 88,
   "metadata": {
    "id": "hhD1r8OLHIRX",
    "pycharm": {
     "name": "#%%\n"
    }
   },
   "outputs": [],
   "source": [
    "class ViterbiPostprocesser:    \n",
    "    def __init__(self, model, smoothing=1.0, w=1.0):\n",
    "        \"\"\"\n",
    "        model : torch.nn.Module\n",
    "            Tagging model\n",
    "        smoothing : float, constant in add-k-smoothing\n",
    "        w : feature weight\n",
    "             Use w for first feature weight and (1 - w) for second feature.\n",
    "        \"\"\"\n",
    "        self.model = model\n",
    "        self.model.eval()\n",
    "        self.smoothing = smoothing\n",
    "        self.w = w\n",
    "\n",
    "        self.A = torch.zeros(len(tag_to_idx), len(tag_to_idx))\n",
    "        self.C = torch.zeros(len(tag_to_idx))\n",
    "        \n",
    "    def fit(self, dataset):\n",
    "        \"\"\"\n",
    "        Fit the model using maximum likelihood method.\n",
    "        \n",
    "        dataset: torch.dataset\n",
    "            One element if pair (sentence, tags) \n",
    "        \"\"\"\n",
    "        ######################################\n",
    "        ######### YOUR CODE HERE #############\n",
    "        ######################################\n",
    "        self.A = torch.zeros(len(tag_to_idx), len(tag_to_idx))\n",
    "        self.C = torch.zeros(len(tag_to_idx))\n",
    "        for batch in dataset:\n",
    "            _, tags = batch\n",
    "            self.C[tags[0]] += 1\n",
    "            for i in range(1, tags.shape[0]):\n",
    "                self.A[tags[i], tags[i - 1]] += 1\n",
    "\n",
    "        self.C = (self.C + self.smoothing) / (self.C.sum() + self.smoothing)\n",
    "        self.A = (self.A + self.smoothing) / (self.A.sum(dim=1) + self.smoothing)\n",
    "        \n",
    "    def decode(self, model_logprobs):\n",
    "        \"\"\"\n",
    "        Viterbi decoding for input model output\n",
    "        \n",
    "        model_logprobs : torch.tensor\n",
    "            Shape is (sequence_length, tag_space_size) \n",
    "        \"\"\"\n",
    "        ######################################\n",
    "        ######### YOUR CODE HERE #############\n",
    "        ######################################\n",
    "        G = torch.zeros(model_logprobs.shape[0], model_logprobs.shape[1], model_logprobs.shape[1], dtype=torch.float64)\n",
    "        for i in range(model_logprobs.shape[0]):\n",
    "            if i == 0:\n",
    "                f_2 = torch.log(self.C.reshape(1, -1))\n",
    "            else:\n",
    "                f_2 = torch.log(self.A)\n",
    "            G[i] = self.w * model_logprobs[i].reshape(1, -1) + (1 - self.w) * f_2\n",
    "\n",
    "        U = torch.zeros_like(model_logprobs)\n",
    "        U[0, :] = torch.max(G[0], dim=0).values\n",
    "        for k in range(1, U.shape[0]):\n",
    "            for i in range(U.shape[1]):\n",
    "                U[k, i] = torch.max(U[k - 1, :] + G[k, :, i])\n",
    "        y = torch.zeros(U.shape[0], dtype=torch.int32)\n",
    "        y[-1] = torch.argmax(U[-1, :]).item()\n",
    "        for k in reversed(range(y.shape[0] - 1)):\n",
    "            y[k] = torch.argmax(U[k, :] + G[k + 1, :, y[k + 1].item()]).item()\n",
    "        return y\n",
    "\n",
    "    def predict_for_batch(self, x_batch):\n",
    "        \"\"\"\n",
    "        Returns predictions for x_batch. Use viterbi decoding.\n",
    "        \n",
    "        return type: torch.LongTensor\n",
    "        return shape: (number of samples in batch, number of words in sentence).\n",
    "        \n",
    "        ----------\n",
    "        Parameters\n",
    "        x_batch: torch.LongTensor with shape (number of samples in batch, number of words in sentence).\n",
    "        \"\"\"\n",
    "        ######################################\n",
    "        ######### YOUR CODE HERE #############\n",
    "        ######################################\n",
    "        # self.decode(torch.log(self.model(x_batch).softmax(dim=-1)))\n",
    "        with torch.no_grad():\n",
    "            bathc_log_probs = torch.log(self.model(x_batch).softmax(dim=-1))\n",
    "            batch_out = torch.cat([self.decode(bathc_log_probs[i]).reshape(1, -1) for i in range(bathc_log_probs.shape[0])], dim=0)\n",
    "            return batch_out"
   ]
  },
  {
   "cell_type": "markdown",
   "metadata": {
    "id": "NVzFx4SpHIRX",
    "pycharm": {
     "name": "#%% md\n"
    }
   },
   "source": [
    "Место для ваших экспериментов:"
   ]
  },
  {
   "cell_type": "code",
   "execution_count": 95,
   "metadata": {
    "id": "Asw-_zPBHIRY",
    "pycharm": {
     "name": "#%%\n"
    }
   },
   "outputs": [
    {
     "name": "stdout",
     "output_type": "stream",
     "text": [
      "-0.07082039324993691\n",
      "{'precision': 53.73134328358209, 'recall': 29.801324503311257, 'f1': 38.33865814696486, 'n_predicted_entities': 335, 'n_true_entities': 604}\n",
      "{'precision': 47.00854700854701, 'recall': 30.726256983240223, 'f1': 37.16216216216217, 'n_predicted_entities': 351, 'n_true_entities': 537}\n"
     ]
    }
   ],
   "source": [
    "######################################\n",
    "######### YOUR CODE HERE #############\n",
    "######################################\n",
    "from scipy.optimize import minimize_scalar\n",
    "\n",
    "\n",
    "def get_f1(eps):\n",
    "    viterbi_prep = ViterbiPostprocesser(biLSTM, w=1 + eps)\n",
    "    viterbi_prep.fit(train_dataset)\n",
    "    return -evaluator.eval_conll(viterbi_prep, val_loader)['f1']\n",
    "\n",
    "eps_optimized = minimize_scalar(get_f1, bounds=(-0.1, 0.1), method='bounded', options={'maxiter': 5}).x\n",
    "print(eps_optimized)\n",
    "\n",
    "preprocess = ViterbiPostprocesser(biLSTM, w=1 + eps_optimized)\n",
    "preprocess.fit(train_dataset)\n",
    "\n",
    "print(evaluator.eval_conll(preprocess, test_loader))\n",
    "print(evaluator.eval_conll(preprocess, val_loader))A"
   ]
  },
  {
   "cell_type": "markdown",
   "metadata": {
    "id": "uwK61V-YHIRY",
    "pycharm": {
     "name": "#%% md\n"
    }
   },
   "source": [
    "## Бонусная часть. Обучаемый постпроцессинг через CRF (2 балла).\n",
    "\n",
    "Реализуйте сами / модифицируйте открытую реализацию CRF, соответствующую реализации обучаемого пост-процессинга в лекции. Например, можно использовать эту реализацию:\n",
    "https://pytorch.org/tutorials/beginner/nlp/advanced_tutorial.html\n",
    "\n",
    "В такой модели должно использоваться два типа признаков:\n",
    "\n",
    "* $|Y|\\times|Y|$ признаков, учитывающих выход модели:\n",
    "$$\t\\phi_{uv}(y_{i-1}, y_i, x_i) = \\mathbb{I}[y_{i-1} = u]\\mathbb{I}[y_i = v] S_{i,y_i}$$\n",
    "* $|Y|\\times|Y|$ признаков, учитывающих связь меток:\n",
    "$$ \\psi_{uv}(y_{i-1}, y_i) = \\mathbb{I}[y_{i-1} = u]\\mathbb{I}[y_i = v] $$\n",
    "\n",
    "Итоговое выражение для $G_{x, i}[y_{i-1}, y_i]$ выглядит так:\n",
    "$$\n",
    "G_{x, i}[y_{i-1}, y_i] = w(y_{i-1}, y_i) S_{i, y_i} + a(y_{i-1}, y_i)\n",
    "$$\n",
    "\n",
    "\n",
    "**<font color='red'>Задание. Обучите модель BiLSTM-CRF в едином пайплайне, добейтесь улучшения качества модели, сделайте выводы по проделанным экспериментам.</font>**"
   ]
  },
  {
   "cell_type": "code",
   "execution_count": null,
   "metadata": {
    "id": "g9iBEneFHIRY",
    "pycharm": {
     "name": "#%%\n"
    }
   },
   "outputs": [],
   "source": [
    "######################################\n",
    "######### YOUR CODE HERE #############\n",
    "######################################        "
   ]
  },
  {
   "cell_type": "markdown",
   "metadata": {
    "id": "6o3aiWOtHIRY",
    "pycharm": {
     "name": "#%% md\n"
    }
   },
   "source": [
    "## Бонусная часть. Дополнительный char-LSTM слой (1 балл).\n",
    "\n",
    "Добавьте к слою представлений слов обучаемые char-based представления. Каждое слово разделяется на символы и прогоняется через char-based сеть (например, через LSTM). Финальное состояние сети (или конкатенация двух финальных состояний в случае bidirectional LSTM) подаётся как дополнительное представление.\n",
    "\n",
    "**<font color='red'> Задание. Обучите модель с дополнительным представлением и сравните качество с исходной моделью. Сделайте выводы по проделанным экспериментам.</font>**"
   ]
  },
  {
   "cell_type": "code",
   "execution_count": null,
   "metadata": {
    "id": "LH0VkLveHIRY",
    "pycharm": {
     "name": "#%%\n"
    }
   },
   "outputs": [],
   "source": [
    "######################################\n",
    "######### YOUR CODE HERE #############\n",
    "######################################        "
   ]
  }
 ],
 "metadata": {
  "kernelspec": {
   "display_name": "Python 3",
   "language": "python",
   "name": "python3"
  },
  "language_info": {
   "codemirror_mode": {
    "name": "ipython",
    "version": 3
   },
   "file_extension": ".py",
   "mimetype": "text/x-python",
   "name": "python",
   "nbconvert_exporter": "python",
   "pygments_lexer": "ipython3",
   "version": "3.7.6"
  },
  "colab": {
   "provenance": [
    {
     "file_id": "1xh4kQ4K2KJ-64D53F5Fckvn7NuKFTtaX",
     "timestamp": 1667297970605
    }
   ]
  }
 },
 "nbformat": 4,
 "nbformat_minor": 0
}